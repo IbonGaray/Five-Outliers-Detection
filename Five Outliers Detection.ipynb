{
 "cells": [
  {
   "cell_type": "markdown",
   "metadata": {},
   "source": [
    "# Method 1 — Standard Deviation:"
   ]
  },
  {
   "cell_type": "markdown",
   "metadata": {},
   "source": [
    "In statistics, If a data distribution is approximately normal then about 68% of the data values lie within one standard deviation of the mean and about 95% are within two standard deviations, and about 99.7% lie within three standard deviations"
   ]
  },
  {
   "cell_type": "markdown",
   "metadata": {},
   "source": [
    "Therefore, if you have any data point that is more than 3 times the standard deviation, then those points are very likely to be anomalous or outliers.\n",
    "Let’s see some code."
   ]
  },
  {
   "cell_type": "code",
   "execution_count": 1,
   "metadata": {},
   "outputs": [
    {
     "name": "stdout",
     "output_type": "stream",
     "text": [
      "-39.94710187872654\n"
     ]
    },
    {
     "data": {
      "text/plain": [
       "[85.55399476988208,\n",
       " -43.81318506366476,\n",
       " 84.53847235591678,\n",
       " 84.42953145411158,\n",
       " 105.95481545611602,\n",
       " -42.63138395110833,\n",
       " -44.94355764593601,\n",
       " 95.75573061038826,\n",
       " 80.30307494776795,\n",
       " -41.143162282794165,\n",
       " -39.957398799997435,\n",
       " 84.26856837424778,\n",
       " 82.42697348072817,\n",
       " -43.184369344623185,\n",
       " -40.95890280930449,\n",
       " 87.91101779312642,\n",
       " 83.37447066344171,\n",
       " -44.44424222305315,\n",
       " 92.27610780678935,\n",
       " 84.03814761127374,\n",
       " -51.09256141208871,\n",
       " -46.09668078441848,\n",
       " -50.51365716306161,\n",
       " -48.50903892100658,\n",
       " 82.6496737827011,\n",
       " -52.04830103603382,\n",
       " -52.51490933295892,\n",
       " 80.63562421857625,\n",
       " -51.678464883316295,\n",
       " 83.95951830576901,\n",
       " -51.19348409334086,\n",
       " -49.56285827754026,\n",
       " -45.4632085977629,\n",
       " -43.04180280261885,\n",
       " -44.9055004380818,\n",
       " -47.235261759383405,\n",
       " 81.28789715326393,\n",
       " 80.63820931291036,\n",
       " 81.01017469617346,\n",
       " -56.54160642620779,\n",
       " 83.27973264305392,\n",
       " 82.40075276579245,\n",
       " -54.15799937107755,\n",
       " -43.67563319847029,\n",
       " 88.00394022531218,\n",
       " -41.30471353215285,\n",
       " 105.43178003058615,\n",
       " -40.71462249811915,\n",
       " -43.596755424448936,\n",
       " -43.00889366919076,\n",
       " -53.69269903726969,\n",
       " 96.16319018688908,\n",
       " -40.55305264165473,\n",
       " 82.91958581649936,\n",
       " -52.029569015263235,\n",
       " 87.2105275116398,\n",
       " -43.323539159007495,\n",
       " -41.521705171359116,\n",
       " -44.40804209565965,\n",
       " 81.02177366274967,\n",
       " -40.27888973480962,\n",
       " 82.49236263959904,\n",
       " -40.54427611567189,\n",
       " -61.085962994087666,\n",
       " -46.44334846561674,\n",
       " -43.890106431366334,\n",
       " -50.44260801430099,\n",
       " -42.99295907662348,\n",
       " -43.93234638259826,\n",
       " 81.88591591363236,\n",
       " 81.65012859612301,\n",
       " 85.837398854708,\n",
       " 85.97125946927463,\n",
       " 86.34828988810312,\n",
       " -40.44643912552107,\n",
       " 81.95377589070046,\n",
       " -48.69141495915389,\n",
       " 87.31872467984199,\n",
       " -40.07521444396849,\n",
       " -43.69289433315472,\n",
       " 87.23648755978391,\n",
       " 88.11260471150793,\n",
       " 80.52151722989962,\n",
       " -61.87559980725736,\n",
       " -44.87680622143455,\n",
       " 79.8950527953428,\n",
       " -46.76867751575641,\n",
       " 81.63536824243653,\n",
       " -46.73025264065767,\n",
       " -42.85283302775661,\n",
       " -40.762841382282424,\n",
       " -40.545557234131316,\n",
       " -42.59094738640012,\n",
       " 84.53468635620354,\n",
       " 84.48401103632042,\n",
       " -48.965453996839415,\n",
       " 81.16472837540536,\n",
       " -47.90674855842538,\n",
       " 81.21241343777663,\n",
       " 81.8755606403474,\n",
       " -40.14476966093798,\n",
       " 81.79525488573455,\n",
       " 82.78473374305287,\n",
       " 95.7403485509525,\n",
       " -47.867152755204245,\n",
       " -40.30308862406851,\n",
       " -52.21664406422222,\n",
       " -39.98152253222125,\n",
       " -42.74246004740877,\n",
       " 85.74272100828985,\n",
       " -47.51285751811838,\n",
       " 84.23184433987322,\n",
       " 79.9631370294455,\n",
       " 85.04578068344256,\n",
       " -43.05693385141099,\n",
       " -40.681502159843596,\n",
       " 81.98768875249257,\n",
       " -46.44425205435002,\n",
       " -43.135637139191346,\n",
       " 106.38286724706121,\n",
       " 96.94487342644254,\n",
       " -46.71343710907797,\n",
       " 84.06904439195047,\n",
       " 83.03827860193253,\n",
       " -40.57359774873775,\n",
       " 83.01708283194685,\n",
       " -41.18255618774906,\n",
       " -40.969675426691296,\n",
       " -43.83884700252246,\n",
       " 93.1524863011928,\n",
       " -46.02405864189839,\n",
       " -41.654774821151,\n",
       " 85.48158765651232,\n",
       " -41.15167039862457,\n",
       " -41.348750052278604,\n",
       " 81.7670561583738,\n",
       " -41.5343720911834,\n",
       " 82.434345408509,\n",
       " 84.67795804716698,\n",
       " -43.8513928753181,\n",
       " 85.95951275388332,\n",
       " -42.21590798170456,\n",
       " -41.20580558180429,\n",
       " -53.26978755999852]"
      ]
     },
     "execution_count": 1,
     "metadata": {},
     "output_type": "execute_result"
    }
   ],
   "source": [
    "import numpy as np\n",
    "import matplotlib.pyplot as plt\n",
    "import random\n",
    "%matplotlib inline\n",
    "random.seed(1)\n",
    "anomalies = []\n",
    "\n",
    "# multiply and add by random numbers to get some real values\n",
    "data = np.random.randn(50000)  * 20 + 20\n",
    "\n",
    "# Function to Detection Outlier on one-dimentional datasets.\n",
    "def find_anomalies(random_data):\n",
    "    # Set upper and lower limit to 3 standard deviation\n",
    "    random_data_std = np.std(random_data)\n",
    "    random_data_mean = np.mean(random_data)\n",
    "    anomaly_cut_off = random_data_std * 3\n",
    "    \n",
    "    lower_limit  = random_data_mean - anomaly_cut_off \n",
    "    upper_limit = random_data_mean + anomaly_cut_off\n",
    "    print(lower_limit)\n",
    "    # Generate outliers\n",
    "    for outlier in random_data:\n",
    "        if outlier > upper_limit or outlier < lower_limit:\n",
    "            anomalies.append(outlier)\n",
    "    return anomalies\n",
    "\n",
    "find_anomalies(data)"
   ]
  },
  {
   "cell_type": "markdown",
   "metadata": {},
   "source": [
    "The output of this code is a list of values above 80 and below -40. Notice that the dataset I am passing is a one-dimensional dataset. Now, let’s explore more advanced methods for multi-dimensional datasets."
   ]
  },
  {
   "cell_type": "markdown",
   "metadata": {},
   "source": [
    "# Method 2 — Boxplots"
   ]
  },
  {
   "cell_type": "markdown",
   "metadata": {},
   "source": [
    "Box plots are a graphical depiction of numerical data through their quantiles. It is a very simple but effective way to visualize outliers. Think about the lower and upper whiskers as the boundaries of the data distribution. Any data points that show above or below the whiskers, can be considered outliers or anomalous. Here is the code to plot a box plot:"
   ]
  },
  {
   "cell_type": "code",
   "execution_count": 2,
   "metadata": {},
   "outputs": [
    {
     "data": {
      "text/plain": [
       "<matplotlib.axes._subplots.AxesSubplot at 0x1b8cac6b2b0>"
      ]
     },
     "execution_count": 2,
     "metadata": {},
     "output_type": "execute_result"
    },
    {
     "data": {
      "image/png": "[encoded data removed]",
      "text/plain": [
       "<Figure size 432x288 with 1 Axes>"
      ]
     },
     "metadata": {
      "needs_background": "light"
     },
     "output_type": "display_data"
    }
   ],
   "source": [
    "import seaborn as sns\n",
    "import matplotlib.pyplot as plt\n",
    "\n",
    "sns.boxplot(data=data)"
   ]
  },
  {
   "cell_type": "markdown",
   "metadata": {},
   "source": [
    "The above code displays the plot below. As you can see, it considers everything above 75 or below ~ -35 to be an outlier. The results are very close to method 1 above.\n"
   ]
  },
  {
   "cell_type": "markdown",
   "metadata": {},
   "source": [
    "#### Boxplot Anatomy:"
   ]
  },
  {
   "cell_type": "markdown",
   "metadata": {},
   "source": [
    "The concept of the Interquartile Range (IQR) is used to build the boxplot graphs. IQR is a concept in statistics that is used to measure the statistical dispersion and data variability by dividing the dataset into quartiles.\n",
    "\n",
    "In simple words, any dataset or any set of observations is divided into four defined intervals based upon the values of the data and how they compare to the entire dataset. A quartile is what divides the data into three points and four intervals."
   ]
  },
  {
   "cell_type": "markdown",
   "metadata": {},
   "source": [
    "Interquartile Range (IQR) is important because it is used to define the outliers. It is the difference between the third quartile and the first quartile (IQR = Q3 -Q1). Outliers in this case are defined as the observations that are below (Q1 − 1.5x IQR) or boxplot lower whisker or above (Q3 + 1.5x IQR) or boxplot upper whisker."
   ]
  },
  {
   "cell_type": "markdown",
   "metadata": {},
   "source": [
    "# Method 3 — DBScan Clustering:"
   ]
  },
  {
   "cell_type": "markdown",
   "metadata": {},
   "source": [
    "DBScan is a clustering algorithm that’s used cluster data into groups. It is also used as a density-based anomaly detection method with either single or multi-dimensional data. Other clustering algorithms such as k-means and hierarchal clustering can also be used to detect outliers. In this instance, I will show you an example of using DBScan but before we start, let’s cover some important concepts. DBScan has three important concepts:"
   ]
  },
  {
   "cell_type": "markdown",
   "metadata": {},
   "source": [
    "Core Points: In order to understand the concept of the core points, we need to visit some of the hyperparameters used to define DBScan job. First hyperparameter (HP)is min_samples. This is simply the minimum number of core points needed in order to form a cluster. second important HP is eps. eps is the maximum distance between two samples for them to be considered as in the same cluster."
   ]
  },
  {
   "cell_type": "markdown",
   "metadata": {},
   "source": [
    "Border Points are in the same cluster as core points but much further away from the centre of the cluster."
   ]
  },
  {
   "cell_type": "markdown",
   "metadata": {},
   "source": [
    "Everything else is called Noise Points, those are data points that do not belong to any cluster. They can be anomalous or non-anomalous and they need further investigation. Now, let’s see some code."
   ]
  },
  {
   "cell_type": "code",
   "execution_count": 4,
   "metadata": {},
   "outputs": [
    {
     "data": {
      "text/plain": [
       "68"
      ]
     },
     "execution_count": 4,
     "metadata": {},
     "output_type": "execute_result"
    }
   ],
   "source": [
    "from sklearn.cluster import DBSCAN\n",
    "random.seed(1)\n",
    "random_data = np.random.randn(50000,2)  * 20 + 20\n",
    "\n",
    "outlier_detection = DBSCAN(min_samples = 2, eps = 3)\n",
    "clusters = outlier_detection.fit_predict(random_data)\n",
    "list(clusters).count(-1)"
   ]
  },
  {
   "cell_type": "markdown",
   "metadata": {},
   "source": [
    "The output of the above code is 94. This is the total number of noisy points. SKLearn labels the noisy points as (-1). The downside with this method is that the higher the dimension, the less accurate it becomes. You also need to make a few assumptions like estimating the right value for eps which can be challenging."
   ]
  },
  {
   "cell_type": "markdown",
   "metadata": {},
   "source": [
    "# Method 4 — Isolation Forest:"
   ]
  },
  {
   "cell_type": "markdown",
   "metadata": {},
   "source": [
    "Isolation Forest is an unsupervised learning algorithm that belongs to the ensemble decision trees family. This approach is different from all previous methods. All the previous ones were trying to find the normal region of the data then identifies anything outside of this defined region to be an outlier or anomalous."
   ]
  },
  {
   "cell_type": "markdown",
   "metadata": {},
   "source": [
    "This method works differently. It explicitly isolates anomalies instead of profiling and constructing normal points and regions by assigning a score to each data point. It takes advantage of the fact that anomalies are the minority data points and that they have attribute-values that are very different from those of normal instances. This algorithm works great with very high dimensional datasets and it proved to be a very effective way of detecting anomalies. Since this article is focusing on the implementation rather than the know-how, I will not go any further on how the algorithm works. However, the full details on how it works are covered in this paper."
   ]
  },
  {
   "cell_type": "markdown",
   "metadata": {},
   "source": [
    "Now, let’s explore the code:"
   ]
  },
  {
   "cell_type": "code",
   "execution_count": 6,
   "metadata": {},
   "outputs": [
    {
     "data": {
      "text/plain": [
       "array([-1,  1, -1, ...,  1,  1,  1])"
      ]
     },
     "execution_count": 6,
     "metadata": {},
     "output_type": "execute_result"
    }
   ],
   "source": [
    "from sklearn.ensemble import IsolationForest\n",
    "import numpy as np\n",
    "np.random.seed(1)\n",
    "random_data = np.random.randn(50000,2)  * 20 + 20\n",
    "\n",
    "clf = IsolationForest( behaviour = 'new', max_samples=100, random_state = 1, contamination= 'auto')\n",
    "preds = clf.fit_predict(random_data)\n",
    "preds"
   ]
  },
  {
   "cell_type": "markdown",
   "metadata": {},
   "source": [
    "This code will output the predictions for each data point in an array. If the result is -1, it means that this specific data point is an outlier. If the result is 1, then it means that the data point is not an outlier"
   ]
  },
  {
   "cell_type": "markdown",
   "metadata": {},
   "source": [
    "# Method 5— Robust Random Cut Forest:"
   ]
  },
  {
   "cell_type": "markdown",
   "metadata": {},
   "source": [
    "Random Cut Forest (RCF) algorithm is Amazon’s unsupervised algorithm for detecting anomalies. It works by associating an anomaly score as well. Low score values indicate that the data point is considered “normal.” High values indicate the presence of an anomaly in the data. The definitions of “low” and “high” depend on the application but common practice suggests that scores beyond three standard deviations from the mean score are considered anomalous. The details of the algorithm can be found in this paper.\n",
    "\n",
    "The great thing about this algorithm is that it works with very high dimensional data. It can also work on real-time streaming data (built in AWS Kinesis Analytics) as well as offline data.\n",
    "\n",
    "The paper shows some performance benchmarks when compared with Isolation Forest. Here are the results from the paper which shows that RCF is much more accurate and faster than Isolation Forests."
   ]
  },
  {
   "cell_type": "code",
   "execution_count": null,
   "metadata": {},
   "outputs": [],
   "source": []
  },
  {
   "cell_type": "code",
   "execution_count": null,
   "metadata": {},
   "outputs": [],
   "source": []
  },
  {
   "cell_type": "code",
   "execution_count": null,
   "metadata": {},
   "outputs": [],
   "source": []
  },
  {
   "cell_type": "code",
   "execution_count": null,
   "metadata": {},
   "outputs": [],
   "source": []
  },
  {
   "cell_type": "code",
   "execution_count": null,
   "metadata": {},
   "outputs": [],
   "source": []
  }
 ],
 "metadata": {
  "kernelspec": {
   "display_name": "Python 3",
   "language": "python",
   "name": "python3"
  },
  "language_info": {
   "codemirror_mode": {
    "name": "ipython",
    "version": 3
   },
   "file_extension": ".py",
   "mimetype": "text/x-python",
   "name": "python",
   "nbconvert_exporter": "python",
   "pygments_lexer": "ipython3",
   "version": "3.7.3"
  }
 },
 "nbformat": 4,
 "nbformat_minor": 4
}
